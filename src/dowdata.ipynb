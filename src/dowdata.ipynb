{
 "cells": [
  {
   "cell_type": "code",
   "execution_count": null,
   "id": "561aa4c3",
   "metadata": {},
   "outputs": [],
   "source": [
    "from tensorflow.keras.datasets import mnist\n",
    "\n",
    "(mnist_x_train, mnist_y_train), (mnist_x_test, mnist_y_test) = mnist.load_data()"
   ]
  },
  {
   "cell_type": "code",
   "execution_count": 5,
   "id": "6c83fd66",
   "metadata": {},
   "outputs": [],
   "source": [
    "import os\n",
    "import numpy as np\n",
    "import pandas as pd\n",
    "from tensorflow.keras.datasets import mnist\n",
    "from PIL import Image\n",
    "\n",
    "# 1. Load dữ liệu\n",
    "(x_train, y_train), (x_test, y_test) = mnist.load_data()\n",
    "\n",
    "# 2. Tạo thư mục lưu\n",
    "os.makedirs(\"mnist_dataset/train\", exist_ok=True)\n",
    "os.makedirs(\"mnist_dataset/test\", exist_ok=True)\n",
    "\n",
    "# 3. Hàm lưu ảnh và label\n",
    "def save_images_and_labels(images, labels, split):\n",
    "    folder = f\"mnist_dataset/{split}\"\n",
    "    label_list = []\n",
    "    \n",
    "    for i, (img, label) in enumerate(zip(images, labels)):\n",
    "        filename = f\"{split}_{i:05d}.png\"\n",
    "        filepath = os.path.join(folder, filename)\n",
    "\n",
    "        # Lưu ảnh\n",
    "        Image.fromarray(img).save(filepath)\n",
    "\n",
    "        # Ghi nhãn\n",
    "        label_list.append({\"filename\": filename, \"label\": label})\n",
    "    \n",
    "    # Ghi file CSV\n",
    "    df = pd.DataFrame(label_list)\n",
    "    df.to_csv(f\"mnist_dataset/{split}_labels.csv\", index=False)\n",
    "\n",
    "# 4. Gọi hàm\n",
    "save_images_and_labels(x_train, y_train, \"train\")\n",
    "save_images_and_labels(x_test, y_test, \"test\")\n"
   ]
  }
 ],
 "metadata": {
  "kernelspec": {
   "display_name": ".venv",
   "language": "python",
   "name": "python3"
  },
  "language_info": {
   "codemirror_mode": {
    "name": "ipython",
    "version": 3
   },
   "file_extension": ".py",
   "mimetype": "text/x-python",
   "name": "python",
   "nbconvert_exporter": "python",
   "pygments_lexer": "ipython3",
   "version": "3.10.0"
  }
 },
 "nbformat": 4,
 "nbformat_minor": 5
}
