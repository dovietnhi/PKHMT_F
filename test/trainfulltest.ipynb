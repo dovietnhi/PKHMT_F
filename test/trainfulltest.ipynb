{
 "cells": [
  {
   "cell_type": "code",
   "execution_count": null,
   "id": "3aab6b65",
   "metadata": {},
   "outputs": [],
   "source": [
    "import pandas as pd\n",
    "import numpy as np\n",
    "from PIL import Image\n",
    "import os\n",
    "\n",
    "def load_mnist_from_folder(folder, label_csv):\n",
    "    df = pd.read_csv(label_csv)\n",
    "    images = []\n",
    "    labels = []\n",
    "    for _, row in df.iterrows():\n",
    "        img_path = os.path.join(folder, row[\"filename\"])\n",
    "        img = Image.open(img_path).convert(\"L\")\n",
    "        img = np.array(img).reshape(28, 28, 1).astype(\"float32\") / 255.0\n",
    "        images.append(img)\n",
    "        labels.append(int(row[\"label\"]))\n",
    "    return np.array(images), np.array(labels)\n",
    "\n",
    "# Load ảnh và nhãn từ thư mục MNIST\n",
    "x_mnist_train, y_mnist_train = load_mnist_from_folder(r\"F:\\DAKHMT\\CLone\\Hand-Written\\datas\\mnist_dataset\\train\", r\"F:\\DAKHMT\\CLone\\Hand-Written\\datas\\mnist_dataset\\train_labels.csv\")\n",
    "x_mnist_test, y_mnist_test = load_mnist_from_folder(r\"F:\\DAKHMT\\CLone\\Hand-Written\\datas\\mnist_dataset\\test\", r\"F:\\DAKHMT\\CLone\\Hand-Written\\datas\\mnist_dataset\\test_labels.csv\")\n",
    "\n",
    "# Gộp train/test\n",
    "x_mnist = np.concatenate([x_mnist_train, x_mnist_test], axis=0)\n",
    "y_mnist = np.concatenate([y_mnist_train, y_mnist_test], axis=0)\n"
   ]
  },
  {
   "cell_type": "code",
   "execution_count": null,
   "id": "ad45a73d",
   "metadata": {},
   "outputs": [],
   "source": [
    "#load data A-Z từ file csv\n",
    "df_az = pd.read_csv(r'F:\\DAKHMT\\CLone\\Hand-Written\\datas\\A_Z Handwritten Data.csv')\n",
    "\n",
    "X_az = df_az.drop(\"0\", axis=1).values.reshape(-1, 28, 28, 1).astype(\"float32\") / 255.0\n",
    "y_az = df_az[\"0\"].values.astype(np.int32) + 10  # A=10, B=11, ..., Z=35"
   ]
  },
  {
   "cell_type": "code",
   "execution_count": null,
   "id": "cd722d36",
   "metadata": {},
   "outputs": [],
   "source": [
    "# Gộp dữ liệu MNIST và A-Z\n",
    "X = np.concatenate([x_mnist, X_az], axis=0)\n",
    "y = np.concatenate([y_mnist, y_az], axis=0)\n"
   ]
  },
  {
   "cell_type": "code",
   "execution_count": null,
   "id": "b4a3ffa4",
   "metadata": {},
   "outputs": [],
   "source": [
    "# Chia dữ liệu thành tập huấn luyện và tập kiểm tra\n",
    "from tensorflow.keras.utils import to_categorical\n",
    "from sklearn.model_selection import train_test_split\n",
    "\n",
    "num_classes = 36\n",
    "y_cat = to_categorical(y, num_classes)\n",
    "\n",
    "X_train, X_test, y_train, y_test = train_test_split(X, y_cat, test_size=0.1, random_state=42)\n"
   ]
  },
  {
   "cell_type": "code",
   "execution_count": null,
   "id": "d5f33e8c",
   "metadata": {},
   "outputs": [],
   "source": [
    "# Tạo mô hình CNN\n",
    "from tensorflow.keras.models import Sequential\n",
    "from tensorflow.keras.layers import Conv2D, MaxPooling2D, Flatten, Dense, Dropout, BatchNormalization\n",
    "from tensorflow.keras.optimizers import Adam\n",
    "\n",
    "model = Sequential([\n",
    "    Conv2D(32, kernel_size=(3,3), activation='relu', input_shape=(28,28,1)),\n",
    "    BatchNormalization(),\n",
    "    MaxPooling2D(pool_size=(2,2)),\n",
    "    Dropout(0.25),\n",
    "\n",
    "    Conv2D(64, kernel_size=(3,3), activation='relu'),\n",
    "    BatchNormalization(),\n",
    "    MaxPooling2D(pool_size=(2,2)),\n",
    "    Dropout(0.25),\n",
    "\n",
    "    Flatten(),\n",
    "    Dense(128, activation='relu'),\n",
    "    Dropout(0.5),\n",
    "    Dense(36, activation='softmax')  # 0–9, A–Z = 36 lớp\n",
    "])\n",
    "\n",
    "model.compile(optimizer=Adam(), loss='categorical_crossentropy', metrics=['accuracy'])\n"
   ]
  },
  {
   "cell_type": "code",
   "execution_count": null,
   "id": "9c7ff490",
   "metadata": {},
   "outputs": [
    {
     "name": "stdout",
     "output_type": "stream",
     "text": [
      "Epoch 1/10\n",
      "3111/3111 [==============================] - 253s 81ms/step - loss: 0.4585 - accuracy: 0.8702 - val_loss: 0.1257 - val_accuracy: 0.9634\n",
      "Epoch 2/10\n",
      "3111/3111 [==============================] - 249s 80ms/step - loss: 0.2211 - accuracy: 0.9359 - val_loss: 0.0927 - val_accuracy: 0.9736\n",
      "Epoch 3/10\n",
      "3111/3111 [==============================] - 238s 76ms/step - loss: 0.1841 - accuracy: 0.9471 - val_loss: 0.0843 - val_accuracy: 0.9757\n",
      "Epoch 4/10\n",
      "3111/3111 [==============================] - 240s 77ms/step - loss: 0.1642 - accuracy: 0.9529 - val_loss: 0.0770 - val_accuracy: 0.9780\n",
      "Epoch 5/10\n",
      "3111/3111 [==============================] - 240s 77ms/step - loss: 0.1505 - accuracy: 0.9562 - val_loss: 0.0714 - val_accuracy: 0.9797\n",
      "Epoch 6/10\n",
      "3111/3111 [==============================] - 239s 77ms/step - loss: 0.1403 - accuracy: 0.9594 - val_loss: 0.0656 - val_accuracy: 0.9808\n",
      "Epoch 7/10\n",
      "3111/3111 [==============================] - 231s 74ms/step - loss: 0.1328 - accuracy: 0.9614 - val_loss: 0.0618 - val_accuracy: 0.9828\n",
      "Epoch 8/10\n",
      "3111/3111 [==============================] - 225s 72ms/step - loss: 0.1261 - accuracy: 0.9633 - val_loss: 0.0614 - val_accuracy: 0.9821\n",
      "Epoch 9/10\n",
      "3111/3111 [==============================] - 227s 73ms/step - loss: 0.1220 - accuracy: 0.9642 - val_loss: 0.0655 - val_accuracy: 0.9804\n",
      "Epoch 10/10\n",
      "3111/3111 [==============================] - 227s 73ms/step - loss: 0.1179 - accuracy: 0.9652 - val_loss: 0.0571 - val_accuracy: 0.9836\n"
     ]
    },
    {
     "data": {
      "text/plain": [
       "<keras.src.callbacks.History at 0x2541daa3d90>"
      ]
     },
     "execution_count": 8,
     "metadata": {},
     "output_type": "execute_result"
    }
   ],
   "source": [
    "# Huấn luyện mô hình\n",
    "model.fit(X_train, y_train, epochs=10, batch_size=128, validation_data=(X_test, y_test))"
   ]
  },
  {
   "cell_type": "code",
   "execution_count": null,
   "id": "7d4f21b9",
   "metadata": {},
   "outputs": [
    {
     "name": "stderr",
     "output_type": "stream",
     "text": [
      "f:\\DAKHMT\\CLone\\Hand-Written\\.venv\\lib\\site-packages\\keras\\src\\engine\\training.py:3000: UserWarning: You are saving your model as an HDF5 file via `model.save()`. This file format is considered legacy. We recommend using instead the native Keras format, e.g. `model.save('my_model.keras')`.\n",
      "  saving_api.save_model(\n"
     ]
    }
   ],
   "source": [
    "# Lưu mô hình\n",
    "model.save(\"model_char_digit_36class.h5\")"
   ]
  },
  {
   "cell_type": "code",
   "execution_count": null,
   "id": "be634ea3",
   "metadata": {},
   "outputs": [],
   "source": [
    "# Tải mô hình đã lưu và dự đoán\n",
    "from tensorflow.keras.models import load_model\n",
    "from PIL import Image, ImageOps\n",
    "import numpy as np\n",
    "import matplotlib.pyplot as plt\n",
    "\n",
    "# Bản đồ nhãn\n",
    "word_dict = {i: str(i) for i in range(10)}\n",
    "word_dict.update({i + 10: chr(ord('A') + i) for i in range(26)})\n",
    "\n",
    "# Tiền xử lý ảnh mới\n",
    "def preprocess_image(image_path):\n",
    "    img = Image.open(image_path).convert(\"L\")\n",
    "    img = ImageOps.invert(img)\n",
    "    img.thumbnail((20, 20), Image.LANCZOS)\n",
    "    new_img = Image.new('L', (28, 28), color=0)\n",
    "    upper_left = ((28 - img.width) // 2, (28 - img.height) // 2)\n",
    "    new_img.paste(img, upper_left)\n",
    "    img_array = np.array(new_img).astype(\"float32\") / 255.0\n",
    "    return img_array.reshape(1, 28, 28, 1), new_img\n",
    "\n",
    "# Dự đoán và hiển thị\n",
    "def predict_and_show(model, image_path):\n",
    "    img_array, processed_img = preprocess_image(image_path)\n",
    "    prediction = model.predict(img_array)\n",
    "    label_index = np.argmax(prediction)\n",
    "    label_char = word_dict[label_index]\n",
    "\n",
    "    plt.imshow(processed_img, cmap='gray')\n",
    "    plt.title(f\"Dự đoán: {label_char} (label: {label_index})\")\n",
    "    plt.axis('off')\n",
    "    plt.show()\n",
    "\n",
    "    return label_index, label_char\n"
   ]
  },
  {
   "cell_type": "code",
   "execution_count": null,
   "id": "1abc3f80",
   "metadata": {},
   "outputs": [
    {
     "name": "stdout",
     "output_type": "stream",
     "text": [
      "1/1 [==============================] - 0s 96ms/step\n"
     ]
    },
    {
     "data": {
      "image/png": "[encoded data removed]",
      "text/plain": [
       "<Figure size 640x480 with 1 Axes>"
      ]
     },
     "metadata": {},
     "output_type": "display_data"
    },
    {
     "data": {
      "text/plain": [
       "(9, '9')"
      ]
     },
     "execution_count": 12,
     "metadata": {},
     "output_type": "execute_result"
    }
   ],
   "source": [
    "# Tải mô hình đã lưu và dự đoán\n",
    "model = load_model(\"model_char_digit_36class.h5\")\n",
    "predict_and_show(model, r'F:\\DAKHMT\\CLone\\vietnamese_chars_dataset\\a\\a_010.png')\n",
    " "
   ]
  }
 ],
 "metadata": {
  "kernelspec": {
   "display_name": ".venv",
   "language": "python",
   "name": "python3"
  },
  "language_info": {
   "codemirror_mode": {
    "name": "ipython",
    "version": 3
   },
   "file_extension": ".py",
   "mimetype": "text/x-python",
   "name": "python",
   "nbconvert_exporter": "python",
   "pygments_lexer": "ipython3",
   "version": "3.10.0"
  }
 },
 "nbformat": 4,
 "nbformat_minor": 5
}
